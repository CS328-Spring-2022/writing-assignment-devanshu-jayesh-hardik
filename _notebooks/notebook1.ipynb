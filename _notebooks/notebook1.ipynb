{
 "cells": [
  {
   "cell_type": "code",
   "execution_count": 1,
   "metadata": {},
   "outputs": [],
   "source": [
    "import numpy as np\n",
    "import matplotlib.pyplot as plt\n",
    "import pandas as pd\n",
    "import plotly.express as px"
   ]
  },
  {
   "cell_type": "code",
   "execution_count": null,
   "metadata": {},
   "outputs": [],
   "source": [
    "from urllib.request import urlopen\n",
    "import json    \n",
    "\n",
    "# with urlopen('https://raw.githubusercontent.com/Subhash9325/GeoJson-Data-of-Indian-States/master/Indian_States') as response:\n",
    "#     counties = json.load(response)\n",
    "\n",
    "with urlopen('https://raw.githubusercontent.com/nikhilkumarsingh/choropleth-python-tutorial/master/states_india.geojson') as response:\n",
    "    counties = json.load(response)\n",
    "\n",
    "print(counties[\"features\"][0].keys())\n",
    "# Note that the loaded geoJSON must have an outermost key id. Note key id is not present here"
   ]
  },
  {
   "cell_type": "code",
   "execution_count": null,
   "metadata": {},
   "outputs": [],
   "source": [
    "for i in range(len(counties['features'])):\n",
    "    # Loop to add 'id' key\n",
    "    counties['features'][i]['id']=counties['features'][i]['properties']['st_nm']\n",
    "#     counties['features'][i]['id']=counties['features'][i]['properties']['NAME_1']\n",
    "    \n",
    "print(counties[\"features\"][0].keys())"
   ]
  },
  {
   "cell_type": "code",
   "execution_count": null,
   "metadata": {},
   "outputs": [],
   "source": [
    "names = []\n",
    "for i in range(len(counties['features'])):\n",
    "    names.append(counties['features'][i]['id'])"
   ]
  },
  {
   "cell_type": "code",
   "execution_count": null,
   "metadata": {},
   "outputs": [],
   "source": [
    "df = pd.read_csv(\"data/NCRB_ADSI-2020_Table_1A.9.csv\")\n",
    "df = df[(df['Category']=='State') + (df['Category']=='Union Territories')]"
   ]
  },
  {
   "cell_type": "markdown",
   "metadata": {},
   "source": [
    "Note : In geoJSON data, there is no separate data for Ladakh and Jammu Kashmir. However, in csv file there are two separate rows. Therefore merging the rows of Ladakh and Jammu Kashmir in dataframe. Also in geoJSON file there are two places 'Daman & Diu' and 'Dadara & Nagar Havelli', however, there is only one row named 'D & N Haveli and Daman & Diu' in dataframe. Therefore a copy of that row is made and used for both the places."
   ]
  },
  {
   "cell_type": "code",
   "execution_count": null,
   "metadata": {},
   "outputs": [],
   "source": [
    "id1=df.index[df['State/UT/City'] == 'Jammu & Kashmir'].tolist()[0]\n",
    "id2=df.index[df['State/UT/City'] == 'Ladakh'].tolist()[0]\n",
    "temp = df.loc[[id1,id2]]\n",
    "temp = pd.concat([temp, (temp.sum(axis=0)).to_frame().transpose()])\n",
    "temp = temp.drop(labels=[id1,id2],axis=0)\n",
    "temp = temp.rename(index={0:id1})\n",
    "temp.loc[id1,'Si. No.'] = str(id1)\n",
    "temp.loc[id1,'Category'] = 'Union Territories'\n",
    "temp.loc[id1,'State/UT/City'] = 'Jammu & Kashmir & Ladakh'\n",
    "df = df.drop(labels=[id1,id2])\n",
    "df = pd.concat([df,temp])\n",
    "\n",
    "id1=df.index[df['State/UT/City'] == 'D & N Haveli and Daman & Diu'].tolist()[0]\n",
    "temp = df.loc[id1].to_frame().transpose()\n",
    "temp['State/UT/City']='D & N Haveli and Daman & Diu-2'\n",
    "df = pd.concat([df,temp])\n",
    "\n",
    "df = df.sort_values('State/UT/City', axis=0)\n",
    "df.head()"
   ]
  },
  {
   "cell_type": "code",
   "execution_count": null,
   "metadata": {},
   "outputs": [],
   "source": [
    "df_cols = list(df.columns)\n",
    "for i in range(3,len(df_cols)):\n",
    "    df[df_cols[i]]=df[df_cols[i]].astype('int64')   "
   ]
  },
  {
   "cell_type": "code",
   "execution_count": null,
   "metadata": {},
   "outputs": [],
   "source": [
    "names.remove('NCT of Delhi')\n",
    "names.append('Delhi')\n",
    "names.sort()"
   ]
  },
  {
   "cell_type": "code",
   "execution_count": null,
   "metadata": {},
   "outputs": [],
   "source": [
    "# Create a dictionary to map state name of dataframe to geo location\n",
    "df2geo = {}\n",
    "df_name = list(df['State/UT/City'])\n",
    "for i in range(df.shape[0]):\n",
    "    df2geo[df.iloc[i,2]]=names[i]\n",
    "    \n",
    "df2geo['Delhi (UT)']='NCT of Delhi'\n",
    "df['name2geo']=df['State/UT/City'].map(df2geo)"
   ]
  },
  {
   "cell_type": "code",
   "execution_count": null,
   "metadata": {},
   "outputs": [],
   "source": [
    "fig = px.choropleth_mapbox(df, geojson=counties, locations='name2geo', \n",
    "                           color='Grand Total - Died',\n",
    "                           color_continuous_scale=\"Viridis\",\n",
    "                           mapbox_style=\"carto-positron\",\n",
    "                           zoom=3, center = {\"lat\": 20.5937, \"lon\": 78.9629},\n",
    "                           opacity=0.5\n",
    "                          )\n",
    "fig.update_layout(margin={\"r\":0,\"t\":0,\"l\":0,\"b\":0})\n",
    "\n",
    "fig.show()"
   ]
  },
  {
   "cell_type": "code",
   "execution_count": null,
   "metadata": {},
   "outputs": [],
   "source": [
    "# fig.write_html(\"../_html/map_totalDied.html\")"
   ]
  },
  {
   "cell_type": "code",
   "execution_count": 3,
   "metadata": {},
   "outputs": [
    {
     "data": {
      "text/html": [
       "<div>\n",
       "<style scoped>\n",
       "    .dataframe tbody tr th:only-of-type {\n",
       "        vertical-align: middle;\n",
       "    }\n",
       "\n",
       "    .dataframe tbody tr th {\n",
       "        vertical-align: top;\n",
       "    }\n",
       "\n",
       "    .dataframe thead th {\n",
       "        text-align: right;\n",
       "    }\n",
       "</style>\n",
       "<table border=\"1\" class=\"dataframe\">\n",
       "  <thead>\n",
       "    <tr style=\"text-align: right;\">\n",
       "      <th></th>\n",
       "      <th>Year</th>\n",
       "      <th>Road Accidents (In thousands)</th>\n",
       "      <th>Causalities in Road Accidents (In thousands)_Persons killed</th>\n",
       "      <th>Causalities  in Road Accidents (In thousands)_Persons Injured</th>\n",
       "      <th>Vehicles Population (In Lakhs)</th>\n",
       "    </tr>\n",
       "  </thead>\n",
       "  <tbody>\n",
       "    <tr>\n",
       "      <th>0</th>\n",
       "      <td>1970</td>\n",
       "      <td>114.1</td>\n",
       "      <td>14.5</td>\n",
       "      <td>70.1</td>\n",
       "      <td>NaN</td>\n",
       "    </tr>\n",
       "    <tr>\n",
       "      <th>1</th>\n",
       "      <td>1971</td>\n",
       "      <td>120.2</td>\n",
       "      <td>15.0</td>\n",
       "      <td>70.7</td>\n",
       "      <td>18.65</td>\n",
       "    </tr>\n",
       "    <tr>\n",
       "      <th>2</th>\n",
       "      <td>1972</td>\n",
       "      <td>122.3</td>\n",
       "      <td>16.1</td>\n",
       "      <td>76.4</td>\n",
       "      <td>20.45</td>\n",
       "    </tr>\n",
       "    <tr>\n",
       "      <th>3</th>\n",
       "      <td>1973</td>\n",
       "      <td>121.6</td>\n",
       "      <td>17.6</td>\n",
       "      <td>79.3</td>\n",
       "      <td>21.09</td>\n",
       "    </tr>\n",
       "    <tr>\n",
       "      <th>4</th>\n",
       "      <td>1974</td>\n",
       "      <td>114.3</td>\n",
       "      <td>17.3</td>\n",
       "      <td>76.7</td>\n",
       "      <td>23.27</td>\n",
       "    </tr>\n",
       "  </tbody>\n",
       "</table>\n",
       "</div>"
      ],
      "text/plain": [
       "  Year   Road Accidents (In thousands)   \\\n",
       "0  1970                           114.1   \n",
       "1  1971                           120.2   \n",
       "2  1972                           122.3   \n",
       "3  1973                           121.6   \n",
       "4  1974                           114.3   \n",
       "\n",
       "   Causalities in Road Accidents (In thousands)_Persons killed  \\\n",
       "0                                               14.5             \n",
       "1                                               15.0             \n",
       "2                                               16.1             \n",
       "3                                               17.6             \n",
       "4                                               17.3             \n",
       "\n",
       "   Causalities  in Road Accidents (In thousands)_Persons Injured  \\\n",
       "0                                               70.1               \n",
       "1                                               70.7               \n",
       "2                                               76.4               \n",
       "3                                               79.3               \n",
       "4                                               76.7               \n",
       "\n",
       "   Vehicles Population (In Lakhs)  \n",
       "0                             NaN  \n",
       "1                           18.65  \n",
       "2                           20.45  \n",
       "3                           21.09  \n",
       "4                           23.27  "
      ]
     },
     "execution_count": 3,
     "metadata": {},
     "output_type": "execute_result"
    }
   ],
   "source": [
    "df = pd.read_csv(\"data/Motor_Transport_Statistics_1995_Table_1.5.csv\")\n",
    "df.head()"
   ]
  },
  {
   "cell_type": "code",
   "execution_count": 13,
   "metadata": {},
   "outputs": [
    {
     "data": {
      "application/vnd.plotly.v1+json": {
       "config": {
        "plotlyServerURL": "https://plot.ly"
       },
       "data": [
        {
         "hovertemplate": "variable=Road Accidents (In thousands) <br>Year =%{x}<br>value=%{y}<extra></extra>",
         "legendgroup": "Road Accidents (In thousands) ",
         "line": {
          "color": "#636efa",
          "dash": "solid"
         },
         "marker": {
          "symbol": "circle"
         },
         "mode": "lines",
         "name": "Road Accidents (In thousands) ",
         "orientation": "v",
         "showlegend": true,
         "type": "scatter",
         "x": [
          "1970",
          "1971",
          "1972",
          "1973",
          "1974",
          "1975",
          "1976",
          "1977",
          "1978",
          "1979",
          "1980",
          "1981",
          "1982",
          "1983",
          "1984",
          "1985",
          "1986",
          "1987",
          "1988",
          "1989",
          "1990",
          "1991",
          "1992 (P)",
          "1993 (P)"
         ],
         "xaxis": "x",
         "y": [
          114.1,
          120.2,
          122.3,
          121.6,
          114.3,
          116.8,
          124.7,
          135.4,
          146.3,
          144.4,
          153.2,
          161.2,
          166.2,
          177,
          195,
          207,
          215.5,
          234,
          246.7,
          270,
          282.6,
          294,
          276.4,
          286
         ],
         "yaxis": "y"
        },
        {
         "hovertemplate": "variable=Causalities in Road Accidents (In thousands)_Persons killed<br>Year =%{x}<br>value=%{y}<extra></extra>",
         "legendgroup": "Causalities in Road Accidents (In thousands)_Persons killed",
         "line": {
          "color": "#EF553B",
          "dash": "solid"
         },
         "marker": {
          "symbol": "circle"
         },
         "mode": "lines",
         "name": "Causalities in Road Accidents (In thousands)_Persons killed",
         "orientation": "v",
         "showlegend": true,
         "type": "scatter",
         "x": [
          "1970",
          "1971",
          "1972",
          "1973",
          "1974",
          "1975",
          "1976",
          "1977",
          "1978",
          "1979",
          "1980",
          "1981",
          "1982",
          "1983",
          "1984",
          "1985",
          "1986",
          "1987",
          "1988",
          "1989",
          "1990",
          "1991",
          "1992 (P)",
          "1993 (P)"
         ],
         "xaxis": "x",
         "y": [
          14.5,
          15,
          16.1,
          17.6,
          17.3,
          16.9,
          17.8,
          20.1,
          21.8,
          22.6,
          24.6,
          28.4,
          30.7,
          32.8,
          35.1,
          39.2,
          40,
          44.4,
          46.6,
          50.7,
          54.1,
          56.6,
          59.7,
          60.6
         ],
         "yaxis": "y"
        },
        {
         "hovertemplate": "variable=Causalities  in Road Accidents (In thousands)_Persons Injured<br>Year =%{x}<br>value=%{y}<extra></extra>",
         "legendgroup": "Causalities  in Road Accidents (In thousands)_Persons Injured",
         "line": {
          "color": "#00cc96",
          "dash": "solid"
         },
         "marker": {
          "symbol": "circle"
         },
         "mode": "lines",
         "name": "Causalities  in Road Accidents (In thousands)_Persons Injured",
         "orientation": "v",
         "showlegend": true,
         "type": "scatter",
         "x": [
          "1970",
          "1971",
          "1972",
          "1973",
          "1974",
          "1975",
          "1976",
          "1977",
          "1978",
          "1979",
          "1980",
          "1981",
          "1982",
          "1983",
          "1984",
          "1985",
          "1986",
          "1987",
          "1988",
          "1989",
          "1990",
          "1991",
          "1992 (P)",
          "1993 (P)"
         ],
         "xaxis": "x",
         "y": [
          70.1,
          70.7,
          76.4,
          79.3,
          76.7,
          77,
          82.5,
          95.6,
          99.5,
          102.9,
          109.1,
          114,
          126,
          134.1,
          156.2,
          163.4,
          176.4,
          189,
          214.8,
          229.7,
          244.1,
          257.2,
          277.6,
          288.6
         ],
         "yaxis": "y"
        },
        {
         "hovertemplate": "variable=Vehicles Population (In Lakhs)<br>Year =%{x}<br>value=%{y}<extra></extra>",
         "legendgroup": "Vehicles Population (In Lakhs)",
         "line": {
          "color": "#ab63fa",
          "dash": "solid"
         },
         "marker": {
          "symbol": "circle"
         },
         "mode": "lines",
         "name": "Vehicles Population (In Lakhs)",
         "orientation": "v",
         "showlegend": true,
         "type": "scatter",
         "x": [
          "1970",
          "1971",
          "1972",
          "1973",
          "1974",
          "1975",
          "1976",
          "1977",
          "1978",
          "1979",
          "1980",
          "1981",
          "1982",
          "1983",
          "1984",
          "1985",
          "1986",
          "1987",
          "1988",
          "1989",
          "1990",
          "1991",
          "1992 (P)",
          "1993 (P)"
         ],
         "xaxis": "x",
         "y": [
          null,
          18.65,
          20.45,
          21.09,
          23.27,
          24.72,
          27,
          32.6,
          36.14,
          40.59,
          45.21,
          53.91,
          60.55,
          69.73,
          79.49,
          91.7,
          105.77,
          126.18,
          148.18,
          169.2,
          191.52,
          213.74,
          235.07,
          255.05
         ],
         "yaxis": "y"
        }
       ],
       "layout": {
        "legend": {
         "title": {
          "text": "variable"
         },
         "tracegroupgap": 0
        },
        "margin": {
         "t": 60
        },
        "template": {
         "data": {
          "bar": [
           {
            "error_x": {
             "color": "#2a3f5f"
            },
            "error_y": {
             "color": "#2a3f5f"
            },
            "marker": {
             "line": {
              "color": "#E5ECF6",
              "width": 0.5
             },
             "pattern": {
              "fillmode": "overlay",
              "size": 10,
              "solidity": 0.2
             }
            },
            "type": "bar"
           }
          ],
          "barpolar": [
           {
            "marker": {
             "line": {
              "color": "#E5ECF6",
              "width": 0.5
             },
             "pattern": {
              "fillmode": "overlay",
              "size": 10,
              "solidity": 0.2
             }
            },
            "type": "barpolar"
           }
          ],
          "carpet": [
           {
            "aaxis": {
             "endlinecolor": "#2a3f5f",
             "gridcolor": "white",
             "linecolor": "white",
             "minorgridcolor": "white",
             "startlinecolor": "#2a3f5f"
            },
            "baxis": {
             "endlinecolor": "#2a3f5f",
             "gridcolor": "white",
             "linecolor": "white",
             "minorgridcolor": "white",
             "startlinecolor": "#2a3f5f"
            },
            "type": "carpet"
           }
          ],
          "choropleth": [
           {
            "colorbar": {
             "outlinewidth": 0,
             "ticks": ""
            },
            "type": "choropleth"
           }
          ],
          "contour": [
           {
            "colorbar": {
             "outlinewidth": 0,
             "ticks": ""
            },
            "colorscale": [
             [
              0,
              "#0d0887"
             ],
             [
              0.1111111111111111,
              "#46039f"
             ],
             [
              0.2222222222222222,
              "#7201a8"
             ],
             [
              0.3333333333333333,
              "#9c179e"
             ],
             [
              0.4444444444444444,
              "#bd3786"
             ],
             [
              0.5555555555555556,
              "#d8576b"
             ],
             [
              0.6666666666666666,
              "#ed7953"
             ],
             [
              0.7777777777777778,
              "#fb9f3a"
             ],
             [
              0.8888888888888888,
              "#fdca26"
             ],
             [
              1,
              "#f0f921"
             ]
            ],
            "type": "contour"
           }
          ],
          "contourcarpet": [
           {
            "colorbar": {
             "outlinewidth": 0,
             "ticks": ""
            },
            "type": "contourcarpet"
           }
          ],
          "heatmap": [
           {
            "colorbar": {
             "outlinewidth": 0,
             "ticks": ""
            },
            "colorscale": [
             [
              0,
              "#0d0887"
             ],
             [
              0.1111111111111111,
              "#46039f"
             ],
             [
              0.2222222222222222,
              "#7201a8"
             ],
             [
              0.3333333333333333,
              "#9c179e"
             ],
             [
              0.4444444444444444,
              "#bd3786"
             ],
             [
              0.5555555555555556,
              "#d8576b"
             ],
             [
              0.6666666666666666,
              "#ed7953"
             ],
             [
              0.7777777777777778,
              "#fb9f3a"
             ],
             [
              0.8888888888888888,
              "#fdca26"
             ],
             [
              1,
              "#f0f921"
             ]
            ],
            "type": "heatmap"
           }
          ],
          "heatmapgl": [
           {
            "colorbar": {
             "outlinewidth": 0,
             "ticks": ""
            },
            "colorscale": [
             [
              0,
              "#0d0887"
             ],
             [
              0.1111111111111111,
              "#46039f"
             ],
             [
              0.2222222222222222,
              "#7201a8"
             ],
             [
              0.3333333333333333,
              "#9c179e"
             ],
             [
              0.4444444444444444,
              "#bd3786"
             ],
             [
              0.5555555555555556,
              "#d8576b"
             ],
             [
              0.6666666666666666,
              "#ed7953"
             ],
             [
              0.7777777777777778,
              "#fb9f3a"
             ],
             [
              0.8888888888888888,
              "#fdca26"
             ],
             [
              1,
              "#f0f921"
             ]
            ],
            "type": "heatmapgl"
           }
          ],
          "histogram": [
           {
            "marker": {
             "pattern": {
              "fillmode": "overlay",
              "size": 10,
              "solidity": 0.2
             }
            },
            "type": "histogram"
           }
          ],
          "histogram2d": [
           {
            "colorbar": {
             "outlinewidth": 0,
             "ticks": ""
            },
            "colorscale": [
             [
              0,
              "#0d0887"
             ],
             [
              0.1111111111111111,
              "#46039f"
             ],
             [
              0.2222222222222222,
              "#7201a8"
             ],
             [
              0.3333333333333333,
              "#9c179e"
             ],
             [
              0.4444444444444444,
              "#bd3786"
             ],
             [
              0.5555555555555556,
              "#d8576b"
             ],
             [
              0.6666666666666666,
              "#ed7953"
             ],
             [
              0.7777777777777778,
              "#fb9f3a"
             ],
             [
              0.8888888888888888,
              "#fdca26"
             ],
             [
              1,
              "#f0f921"
             ]
            ],
            "type": "histogram2d"
           }
          ],
          "histogram2dcontour": [
           {
            "colorbar": {
             "outlinewidth": 0,
             "ticks": ""
            },
            "colorscale": [
             [
              0,
              "#0d0887"
             ],
             [
              0.1111111111111111,
              "#46039f"
             ],
             [
              0.2222222222222222,
              "#7201a8"
             ],
             [
              0.3333333333333333,
              "#9c179e"
             ],
             [
              0.4444444444444444,
              "#bd3786"
             ],
             [
              0.5555555555555556,
              "#d8576b"
             ],
             [
              0.6666666666666666,
              "#ed7953"
             ],
             [
              0.7777777777777778,
              "#fb9f3a"
             ],
             [
              0.8888888888888888,
              "#fdca26"
             ],
             [
              1,
              "#f0f921"
             ]
            ],
            "type": "histogram2dcontour"
           }
          ],
          "mesh3d": [
           {
            "colorbar": {
             "outlinewidth": 0,
             "ticks": ""
            },
            "type": "mesh3d"
           }
          ],
          "parcoords": [
           {
            "line": {
             "colorbar": {
              "outlinewidth": 0,
              "ticks": ""
             }
            },
            "type": "parcoords"
           }
          ],
          "pie": [
           {
            "automargin": true,
            "type": "pie"
           }
          ],
          "scatter": [
           {
            "marker": {
             "colorbar": {
              "outlinewidth": 0,
              "ticks": ""
             }
            },
            "type": "scatter"
           }
          ],
          "scatter3d": [
           {
            "line": {
             "colorbar": {
              "outlinewidth": 0,
              "ticks": ""
             }
            },
            "marker": {
             "colorbar": {
              "outlinewidth": 0,
              "ticks": ""
             }
            },
            "type": "scatter3d"
           }
          ],
          "scattercarpet": [
           {
            "marker": {
             "colorbar": {
              "outlinewidth": 0,
              "ticks": ""
             }
            },
            "type": "scattercarpet"
           }
          ],
          "scattergeo": [
           {
            "marker": {
             "colorbar": {
              "outlinewidth": 0,
              "ticks": ""
             }
            },
            "type": "scattergeo"
           }
          ],
          "scattergl": [
           {
            "marker": {
             "colorbar": {
              "outlinewidth": 0,
              "ticks": ""
             }
            },
            "type": "scattergl"
           }
          ],
          "scattermapbox": [
           {
            "marker": {
             "colorbar": {
              "outlinewidth": 0,
              "ticks": ""
             }
            },
            "type": "scattermapbox"
           }
          ],
          "scatterpolar": [
           {
            "marker": {
             "colorbar": {
              "outlinewidth": 0,
              "ticks": ""
             }
            },
            "type": "scatterpolar"
           }
          ],
          "scatterpolargl": [
           {
            "marker": {
             "colorbar": {
              "outlinewidth": 0,
              "ticks": ""
             }
            },
            "type": "scatterpolargl"
           }
          ],
          "scatterternary": [
           {
            "marker": {
             "colorbar": {
              "outlinewidth": 0,
              "ticks": ""
             }
            },
            "type": "scatterternary"
           }
          ],
          "surface": [
           {
            "colorbar": {
             "outlinewidth": 0,
             "ticks": ""
            },
            "colorscale": [
             [
              0,
              "#0d0887"
             ],
             [
              0.1111111111111111,
              "#46039f"
             ],
             [
              0.2222222222222222,
              "#7201a8"
             ],
             [
              0.3333333333333333,
              "#9c179e"
             ],
             [
              0.4444444444444444,
              "#bd3786"
             ],
             [
              0.5555555555555556,
              "#d8576b"
             ],
             [
              0.6666666666666666,
              "#ed7953"
             ],
             [
              0.7777777777777778,
              "#fb9f3a"
             ],
             [
              0.8888888888888888,
              "#fdca26"
             ],
             [
              1,
              "#f0f921"
             ]
            ],
            "type": "surface"
           }
          ],
          "table": [
           {
            "cells": {
             "fill": {
              "color": "#EBF0F8"
             },
             "line": {
              "color": "white"
             }
            },
            "header": {
             "fill": {
              "color": "#C8D4E3"
             },
             "line": {
              "color": "white"
             }
            },
            "type": "table"
           }
          ]
         },
         "layout": {
          "annotationdefaults": {
           "arrowcolor": "#2a3f5f",
           "arrowhead": 0,
           "arrowwidth": 1
          },
          "autotypenumbers": "strict",
          "coloraxis": {
           "colorbar": {
            "outlinewidth": 0,
            "ticks": ""
           }
          },
          "colorscale": {
           "diverging": [
            [
             0,
             "#8e0152"
            ],
            [
             0.1,
             "#c51b7d"
            ],
            [
             0.2,
             "#de77ae"
            ],
            [
             0.3,
             "#f1b6da"
            ],
            [
             0.4,
             "#fde0ef"
            ],
            [
             0.5,
             "#f7f7f7"
            ],
            [
             0.6,
             "#e6f5d0"
            ],
            [
             0.7,
             "#b8e186"
            ],
            [
             0.8,
             "#7fbc41"
            ],
            [
             0.9,
             "#4d9221"
            ],
            [
             1,
             "#276419"
            ]
           ],
           "sequential": [
            [
             0,
             "#0d0887"
            ],
            [
             0.1111111111111111,
             "#46039f"
            ],
            [
             0.2222222222222222,
             "#7201a8"
            ],
            [
             0.3333333333333333,
             "#9c179e"
            ],
            [
             0.4444444444444444,
             "#bd3786"
            ],
            [
             0.5555555555555556,
             "#d8576b"
            ],
            [
             0.6666666666666666,
             "#ed7953"
            ],
            [
             0.7777777777777778,
             "#fb9f3a"
            ],
            [
             0.8888888888888888,
             "#fdca26"
            ],
            [
             1,
             "#f0f921"
            ]
           ],
           "sequentialminus": [
            [
             0,
             "#0d0887"
            ],
            [
             0.1111111111111111,
             "#46039f"
            ],
            [
             0.2222222222222222,
             "#7201a8"
            ],
            [
             0.3333333333333333,
             "#9c179e"
            ],
            [
             0.4444444444444444,
             "#bd3786"
            ],
            [
             0.5555555555555556,
             "#d8576b"
            ],
            [
             0.6666666666666666,
             "#ed7953"
            ],
            [
             0.7777777777777778,
             "#fb9f3a"
            ],
            [
             0.8888888888888888,
             "#fdca26"
            ],
            [
             1,
             "#f0f921"
            ]
           ]
          },
          "colorway": [
           "#636efa",
           "#EF553B",
           "#00cc96",
           "#ab63fa",
           "#FFA15A",
           "#19d3f3",
           "#FF6692",
           "#B6E880",
           "#FF97FF",
           "#FECB52"
          ],
          "font": {
           "color": "#2a3f5f"
          },
          "geo": {
           "bgcolor": "white",
           "lakecolor": "white",
           "landcolor": "#E5ECF6",
           "showlakes": true,
           "showland": true,
           "subunitcolor": "white"
          },
          "hoverlabel": {
           "align": "left"
          },
          "hovermode": "closest",
          "mapbox": {
           "style": "light"
          },
          "paper_bgcolor": "white",
          "plot_bgcolor": "#E5ECF6",
          "polar": {
           "angularaxis": {
            "gridcolor": "white",
            "linecolor": "white",
            "ticks": ""
           },
           "bgcolor": "#E5ECF6",
           "radialaxis": {
            "gridcolor": "white",
            "linecolor": "white",
            "ticks": ""
           }
          },
          "scene": {
           "xaxis": {
            "backgroundcolor": "#E5ECF6",
            "gridcolor": "white",
            "gridwidth": 2,
            "linecolor": "white",
            "showbackground": true,
            "ticks": "",
            "zerolinecolor": "white"
           },
           "yaxis": {
            "backgroundcolor": "#E5ECF6",
            "gridcolor": "white",
            "gridwidth": 2,
            "linecolor": "white",
            "showbackground": true,
            "ticks": "",
            "zerolinecolor": "white"
           },
           "zaxis": {
            "backgroundcolor": "#E5ECF6",
            "gridcolor": "white",
            "gridwidth": 2,
            "linecolor": "white",
            "showbackground": true,
            "ticks": "",
            "zerolinecolor": "white"
           }
          },
          "shapedefaults": {
           "line": {
            "color": "#2a3f5f"
           }
          },
          "ternary": {
           "aaxis": {
            "gridcolor": "white",
            "linecolor": "white",
            "ticks": ""
           },
           "baxis": {
            "gridcolor": "white",
            "linecolor": "white",
            "ticks": ""
           },
           "bgcolor": "#E5ECF6",
           "caxis": {
            "gridcolor": "white",
            "linecolor": "white",
            "ticks": ""
           }
          },
          "title": {
           "x": 0.05
          },
          "xaxis": {
           "automargin": true,
           "gridcolor": "white",
           "linecolor": "white",
           "ticks": "",
           "title": {
            "standoff": 15
           },
           "zerolinecolor": "white",
           "zerolinewidth": 2
          },
          "yaxis": {
           "automargin": true,
           "gridcolor": "white",
           "linecolor": "white",
           "ticks": "",
           "title": {
            "standoff": 15
           },
           "zerolinecolor": "white",
           "zerolinewidth": 2
          }
         }
        },
        "xaxis": {
         "anchor": "y",
         "domain": [
          0,
          1
         ],
         "title": {
          "text": "Year "
         }
        },
        "yaxis": {
         "anchor": "x",
         "domain": [
          0,
          1
         ],
         "title": {
          "text": "value"
         }
        }
       }
      },
      "text/html": [
       "<div>                            <div id=\"3973e80c-92f7-485b-b74d-864fd26807fd\" class=\"plotly-graph-div\" style=\"height:525px; width:100%;\"></div>            <script type=\"text/javascript\">                require([\"plotly\"], function(Plotly) {                    window.PLOTLYENV=window.PLOTLYENV || {};                                    if (document.getElementById(\"3973e80c-92f7-485b-b74d-864fd26807fd\")) {                    Plotly.newPlot(                        \"3973e80c-92f7-485b-b74d-864fd26807fd\",                        [{\"hovertemplate\":\"variable=Road Accidents (In thousands) <br>Year =%{x}<br>value=%{y}<extra></extra>\",\"legendgroup\":\"Road Accidents (In thousands) \",\"line\":{\"color\":\"#636efa\",\"dash\":\"solid\"},\"marker\":{\"symbol\":\"circle\"},\"mode\":\"lines\",\"name\":\"Road Accidents (In thousands) \",\"orientation\":\"v\",\"showlegend\":true,\"x\":[\"1970\",\"1971\",\"1972\",\"1973\",\"1974\",\"1975\",\"1976\",\"1977\",\"1978\",\"1979\",\"1980\",\"1981\",\"1982\",\"1983\",\"1984\",\"1985\",\"1986\",\"1987\",\"1988\",\"1989\",\"1990\",\"1991\",\"1992 (P)\",\"1993 (P)\"],\"xaxis\":\"x\",\"y\":[114.1,120.2,122.3,121.6,114.3,116.8,124.7,135.4,146.3,144.4,153.2,161.2,166.2,177.0,195.0,207.0,215.5,234.0,246.7,270.0,282.6,294.0,276.4,286.0],\"yaxis\":\"y\",\"type\":\"scatter\"},{\"hovertemplate\":\"variable=Causalities in Road Accidents (In thousands)_Persons killed<br>Year =%{x}<br>value=%{y}<extra></extra>\",\"legendgroup\":\"Causalities in Road Accidents (In thousands)_Persons killed\",\"line\":{\"color\":\"#EF553B\",\"dash\":\"solid\"},\"marker\":{\"symbol\":\"circle\"},\"mode\":\"lines\",\"name\":\"Causalities in Road Accidents (In thousands)_Persons killed\",\"orientation\":\"v\",\"showlegend\":true,\"x\":[\"1970\",\"1971\",\"1972\",\"1973\",\"1974\",\"1975\",\"1976\",\"1977\",\"1978\",\"1979\",\"1980\",\"1981\",\"1982\",\"1983\",\"1984\",\"1985\",\"1986\",\"1987\",\"1988\",\"1989\",\"1990\",\"1991\",\"1992 (P)\",\"1993 (P)\"],\"xaxis\":\"x\",\"y\":[14.5,15.0,16.1,17.6,17.3,16.9,17.8,20.1,21.8,22.6,24.6,28.4,30.7,32.8,35.1,39.2,40.0,44.4,46.6,50.7,54.1,56.6,59.7,60.6],\"yaxis\":\"y\",\"type\":\"scatter\"},{\"hovertemplate\":\"variable=Causalities  in Road Accidents (In thousands)_Persons Injured<br>Year =%{x}<br>value=%{y}<extra></extra>\",\"legendgroup\":\"Causalities  in Road Accidents (In thousands)_Persons Injured\",\"line\":{\"color\":\"#00cc96\",\"dash\":\"solid\"},\"marker\":{\"symbol\":\"circle\"},\"mode\":\"lines\",\"name\":\"Causalities  in Road Accidents (In thousands)_Persons Injured\",\"orientation\":\"v\",\"showlegend\":true,\"x\":[\"1970\",\"1971\",\"1972\",\"1973\",\"1974\",\"1975\",\"1976\",\"1977\",\"1978\",\"1979\",\"1980\",\"1981\",\"1982\",\"1983\",\"1984\",\"1985\",\"1986\",\"1987\",\"1988\",\"1989\",\"1990\",\"1991\",\"1992 (P)\",\"1993 (P)\"],\"xaxis\":\"x\",\"y\":[70.1,70.7,76.4,79.3,76.7,77.0,82.5,95.6,99.5,102.9,109.1,114.0,126.0,134.1,156.2,163.4,176.4,189.0,214.8,229.7,244.1,257.2,277.6,288.6],\"yaxis\":\"y\",\"type\":\"scatter\"},{\"hovertemplate\":\"variable=Vehicles Population (In Lakhs)<br>Year =%{x}<br>value=%{y}<extra></extra>\",\"legendgroup\":\"Vehicles Population (In Lakhs)\",\"line\":{\"color\":\"#ab63fa\",\"dash\":\"solid\"},\"marker\":{\"symbol\":\"circle\"},\"mode\":\"lines\",\"name\":\"Vehicles Population (In Lakhs)\",\"orientation\":\"v\",\"showlegend\":true,\"x\":[\"1970\",\"1971\",\"1972\",\"1973\",\"1974\",\"1975\",\"1976\",\"1977\",\"1978\",\"1979\",\"1980\",\"1981\",\"1982\",\"1983\",\"1984\",\"1985\",\"1986\",\"1987\",\"1988\",\"1989\",\"1990\",\"1991\",\"1992 (P)\",\"1993 (P)\"],\"xaxis\":\"x\",\"y\":[null,18.65,20.45,21.09,23.27,24.72,27.0,32.6,36.14,40.59,45.21,53.91,60.55,69.73,79.49,91.7,105.77,126.18,148.18,169.2,191.52,213.74,235.07,255.05],\"yaxis\":\"y\",\"type\":\"scatter\"}],                        {\"template\":{\"data\":{\"bar\":[{\"error_x\":{\"color\":\"#2a3f5f\"},\"error_y\":{\"color\":\"#2a3f5f\"},\"marker\":{\"line\":{\"color\":\"#E5ECF6\",\"width\":0.5},\"pattern\":{\"fillmode\":\"overlay\",\"size\":10,\"solidity\":0.2}},\"type\":\"bar\"}],\"barpolar\":[{\"marker\":{\"line\":{\"color\":\"#E5ECF6\",\"width\":0.5},\"pattern\":{\"fillmode\":\"overlay\",\"size\":10,\"solidity\":0.2}},\"type\":\"barpolar\"}],\"carpet\":[{\"aaxis\":{\"endlinecolor\":\"#2a3f5f\",\"gridcolor\":\"white\",\"linecolor\":\"white\",\"minorgridcolor\":\"white\",\"startlinecolor\":\"#2a3f5f\"},\"baxis\":{\"endlinecolor\":\"#2a3f5f\",\"gridcolor\":\"white\",\"linecolor\":\"white\",\"minorgridcolor\":\"white\",\"startlinecolor\":\"#2a3f5f\"},\"type\":\"carpet\"}],\"choropleth\":[{\"colorbar\":{\"outlinewidth\":0,\"ticks\":\"\"},\"type\":\"choropleth\"}],\"contour\":[{\"colorbar\":{\"outlinewidth\":0,\"ticks\":\"\"},\"colorscale\":[[0.0,\"#0d0887\"],[0.1111111111111111,\"#46039f\"],[0.2222222222222222,\"#7201a8\"],[0.3333333333333333,\"#9c179e\"],[0.4444444444444444,\"#bd3786\"],[0.5555555555555556,\"#d8576b\"],[0.6666666666666666,\"#ed7953\"],[0.7777777777777778,\"#fb9f3a\"],[0.8888888888888888,\"#fdca26\"],[1.0,\"#f0f921\"]],\"type\":\"contour\"}],\"contourcarpet\":[{\"colorbar\":{\"outlinewidth\":0,\"ticks\":\"\"},\"type\":\"contourcarpet\"}],\"heatmap\":[{\"colorbar\":{\"outlinewidth\":0,\"ticks\":\"\"},\"colorscale\":[[0.0,\"#0d0887\"],[0.1111111111111111,\"#46039f\"],[0.2222222222222222,\"#7201a8\"],[0.3333333333333333,\"#9c179e\"],[0.4444444444444444,\"#bd3786\"],[0.5555555555555556,\"#d8576b\"],[0.6666666666666666,\"#ed7953\"],[0.7777777777777778,\"#fb9f3a\"],[0.8888888888888888,\"#fdca26\"],[1.0,\"#f0f921\"]],\"type\":\"heatmap\"}],\"heatmapgl\":[{\"colorbar\":{\"outlinewidth\":0,\"ticks\":\"\"},\"colorscale\":[[0.0,\"#0d0887\"],[0.1111111111111111,\"#46039f\"],[0.2222222222222222,\"#7201a8\"],[0.3333333333333333,\"#9c179e\"],[0.4444444444444444,\"#bd3786\"],[0.5555555555555556,\"#d8576b\"],[0.6666666666666666,\"#ed7953\"],[0.7777777777777778,\"#fb9f3a\"],[0.8888888888888888,\"#fdca26\"],[1.0,\"#f0f921\"]],\"type\":\"heatmapgl\"}],\"histogram\":[{\"marker\":{\"pattern\":{\"fillmode\":\"overlay\",\"size\":10,\"solidity\":0.2}},\"type\":\"histogram\"}],\"histogram2d\":[{\"colorbar\":{\"outlinewidth\":0,\"ticks\":\"\"},\"colorscale\":[[0.0,\"#0d0887\"],[0.1111111111111111,\"#46039f\"],[0.2222222222222222,\"#7201a8\"],[0.3333333333333333,\"#9c179e\"],[0.4444444444444444,\"#bd3786\"],[0.5555555555555556,\"#d8576b\"],[0.6666666666666666,\"#ed7953\"],[0.7777777777777778,\"#fb9f3a\"],[0.8888888888888888,\"#fdca26\"],[1.0,\"#f0f921\"]],\"type\":\"histogram2d\"}],\"histogram2dcontour\":[{\"colorbar\":{\"outlinewidth\":0,\"ticks\":\"\"},\"colorscale\":[[0.0,\"#0d0887\"],[0.1111111111111111,\"#46039f\"],[0.2222222222222222,\"#7201a8\"],[0.3333333333333333,\"#9c179e\"],[0.4444444444444444,\"#bd3786\"],[0.5555555555555556,\"#d8576b\"],[0.6666666666666666,\"#ed7953\"],[0.7777777777777778,\"#fb9f3a\"],[0.8888888888888888,\"#fdca26\"],[1.0,\"#f0f921\"]],\"type\":\"histogram2dcontour\"}],\"mesh3d\":[{\"colorbar\":{\"outlinewidth\":0,\"ticks\":\"\"},\"type\":\"mesh3d\"}],\"parcoords\":[{\"line\":{\"colorbar\":{\"outlinewidth\":0,\"ticks\":\"\"}},\"type\":\"parcoords\"}],\"pie\":[{\"automargin\":true,\"type\":\"pie\"}],\"scatter\":[{\"marker\":{\"colorbar\":{\"outlinewidth\":0,\"ticks\":\"\"}},\"type\":\"scatter\"}],\"scatter3d\":[{\"line\":{\"colorbar\":{\"outlinewidth\":0,\"ticks\":\"\"}},\"marker\":{\"colorbar\":{\"outlinewidth\":0,\"ticks\":\"\"}},\"type\":\"scatter3d\"}],\"scattercarpet\":[{\"marker\":{\"colorbar\":{\"outlinewidth\":0,\"ticks\":\"\"}},\"type\":\"scattercarpet\"}],\"scattergeo\":[{\"marker\":{\"colorbar\":{\"outlinewidth\":0,\"ticks\":\"\"}},\"type\":\"scattergeo\"}],\"scattergl\":[{\"marker\":{\"colorbar\":{\"outlinewidth\":0,\"ticks\":\"\"}},\"type\":\"scattergl\"}],\"scattermapbox\":[{\"marker\":{\"colorbar\":{\"outlinewidth\":0,\"ticks\":\"\"}},\"type\":\"scattermapbox\"}],\"scatterpolar\":[{\"marker\":{\"colorbar\":{\"outlinewidth\":0,\"ticks\":\"\"}},\"type\":\"scatterpolar\"}],\"scatterpolargl\":[{\"marker\":{\"colorbar\":{\"outlinewidth\":0,\"ticks\":\"\"}},\"type\":\"scatterpolargl\"}],\"scatterternary\":[{\"marker\":{\"colorbar\":{\"outlinewidth\":0,\"ticks\":\"\"}},\"type\":\"scatterternary\"}],\"surface\":[{\"colorbar\":{\"outlinewidth\":0,\"ticks\":\"\"},\"colorscale\":[[0.0,\"#0d0887\"],[0.1111111111111111,\"#46039f\"],[0.2222222222222222,\"#7201a8\"],[0.3333333333333333,\"#9c179e\"],[0.4444444444444444,\"#bd3786\"],[0.5555555555555556,\"#d8576b\"],[0.6666666666666666,\"#ed7953\"],[0.7777777777777778,\"#fb9f3a\"],[0.8888888888888888,\"#fdca26\"],[1.0,\"#f0f921\"]],\"type\":\"surface\"}],\"table\":[{\"cells\":{\"fill\":{\"color\":\"#EBF0F8\"},\"line\":{\"color\":\"white\"}},\"header\":{\"fill\":{\"color\":\"#C8D4E3\"},\"line\":{\"color\":\"white\"}},\"type\":\"table\"}]},\"layout\":{\"annotationdefaults\":{\"arrowcolor\":\"#2a3f5f\",\"arrowhead\":0,\"arrowwidth\":1},\"autotypenumbers\":\"strict\",\"coloraxis\":{\"colorbar\":{\"outlinewidth\":0,\"ticks\":\"\"}},\"colorscale\":{\"diverging\":[[0,\"#8e0152\"],[0.1,\"#c51b7d\"],[0.2,\"#de77ae\"],[0.3,\"#f1b6da\"],[0.4,\"#fde0ef\"],[0.5,\"#f7f7f7\"],[0.6,\"#e6f5d0\"],[0.7,\"#b8e186\"],[0.8,\"#7fbc41\"],[0.9,\"#4d9221\"],[1,\"#276419\"]],\"sequential\":[[0.0,\"#0d0887\"],[0.1111111111111111,\"#46039f\"],[0.2222222222222222,\"#7201a8\"],[0.3333333333333333,\"#9c179e\"],[0.4444444444444444,\"#bd3786\"],[0.5555555555555556,\"#d8576b\"],[0.6666666666666666,\"#ed7953\"],[0.7777777777777778,\"#fb9f3a\"],[0.8888888888888888,\"#fdca26\"],[1.0,\"#f0f921\"]],\"sequentialminus\":[[0.0,\"#0d0887\"],[0.1111111111111111,\"#46039f\"],[0.2222222222222222,\"#7201a8\"],[0.3333333333333333,\"#9c179e\"],[0.4444444444444444,\"#bd3786\"],[0.5555555555555556,\"#d8576b\"],[0.6666666666666666,\"#ed7953\"],[0.7777777777777778,\"#fb9f3a\"],[0.8888888888888888,\"#fdca26\"],[1.0,\"#f0f921\"]]},\"colorway\":[\"#636efa\",\"#EF553B\",\"#00cc96\",\"#ab63fa\",\"#FFA15A\",\"#19d3f3\",\"#FF6692\",\"#B6E880\",\"#FF97FF\",\"#FECB52\"],\"font\":{\"color\":\"#2a3f5f\"},\"geo\":{\"bgcolor\":\"white\",\"lakecolor\":\"white\",\"landcolor\":\"#E5ECF6\",\"showlakes\":true,\"showland\":true,\"subunitcolor\":\"white\"},\"hoverlabel\":{\"align\":\"left\"},\"hovermode\":\"closest\",\"mapbox\":{\"style\":\"light\"},\"paper_bgcolor\":\"white\",\"plot_bgcolor\":\"#E5ECF6\",\"polar\":{\"angularaxis\":{\"gridcolor\":\"white\",\"linecolor\":\"white\",\"ticks\":\"\"},\"bgcolor\":\"#E5ECF6\",\"radialaxis\":{\"gridcolor\":\"white\",\"linecolor\":\"white\",\"ticks\":\"\"}},\"scene\":{\"xaxis\":{\"backgroundcolor\":\"#E5ECF6\",\"gridcolor\":\"white\",\"gridwidth\":2,\"linecolor\":\"white\",\"showbackground\":true,\"ticks\":\"\",\"zerolinecolor\":\"white\"},\"yaxis\":{\"backgroundcolor\":\"#E5ECF6\",\"gridcolor\":\"white\",\"gridwidth\":2,\"linecolor\":\"white\",\"showbackground\":true,\"ticks\":\"\",\"zerolinecolor\":\"white\"},\"zaxis\":{\"backgroundcolor\":\"#E5ECF6\",\"gridcolor\":\"white\",\"gridwidth\":2,\"linecolor\":\"white\",\"showbackground\":true,\"ticks\":\"\",\"zerolinecolor\":\"white\"}},\"shapedefaults\":{\"line\":{\"color\":\"#2a3f5f\"}},\"ternary\":{\"aaxis\":{\"gridcolor\":\"white\",\"linecolor\":\"white\",\"ticks\":\"\"},\"baxis\":{\"gridcolor\":\"white\",\"linecolor\":\"white\",\"ticks\":\"\"},\"bgcolor\":\"#E5ECF6\",\"caxis\":{\"gridcolor\":\"white\",\"linecolor\":\"white\",\"ticks\":\"\"}},\"title\":{\"x\":0.05},\"xaxis\":{\"automargin\":true,\"gridcolor\":\"white\",\"linecolor\":\"white\",\"ticks\":\"\",\"title\":{\"standoff\":15},\"zerolinecolor\":\"white\",\"zerolinewidth\":2},\"yaxis\":{\"automargin\":true,\"gridcolor\":\"white\",\"linecolor\":\"white\",\"ticks\":\"\",\"title\":{\"standoff\":15},\"zerolinecolor\":\"white\",\"zerolinewidth\":2}}},\"xaxis\":{\"anchor\":\"y\",\"domain\":[0.0,1.0],\"title\":{\"text\":\"Year \"}},\"yaxis\":{\"anchor\":\"x\",\"domain\":[0.0,1.0],\"title\":{\"text\":\"value\"}},\"legend\":{\"title\":{\"text\":\"variable\"},\"tracegroupgap\":0},\"margin\":{\"t\":60}},                        {\"responsive\": true}                    ).then(function(){\n",
       "                            \n",
       "var gd = document.getElementById('3973e80c-92f7-485b-b74d-864fd26807fd');\n",
       "var x = new MutationObserver(function (mutations, observer) {{\n",
       "        var display = window.getComputedStyle(gd).display;\n",
       "        if (!display || display === 'none') {{\n",
       "            console.log([gd, 'removed!']);\n",
       "            Plotly.purge(gd);\n",
       "            observer.disconnect();\n",
       "        }}\n",
       "}});\n",
       "\n",
       "// Listen for the removal of the full notebook cells\n",
       "var notebookContainer = gd.closest('#notebook-container');\n",
       "if (notebookContainer) {{\n",
       "    x.observe(notebookContainer, {childList: true});\n",
       "}}\n",
       "\n",
       "// Listen for the clearing of the current output cell\n",
       "var outputEl = gd.closest('.output');\n",
       "if (outputEl) {{\n",
       "    x.observe(outputEl, {childList: true});\n",
       "}}\n",
       "\n",
       "                        })                };                });            </script>        </div>"
      ]
     },
     "metadata": {},
     "output_type": "display_data"
    }
   ],
   "source": [
    "# print(df.columns)\n",
    "fig = px.line(df, x=df.columns[0], y=df.columns[1:])\n",
    "# for i in range(1,len(df.columns)):\n",
    "#     fig = px.line(df, x=df.columns[0], y=df.columns[i])\n",
    "fig.show()"
   ]
  },
  {
   "cell_type": "code",
   "execution_count": 15,
   "metadata": {},
   "outputs": [],
   "source": [
    "fig.write_image(\"lines_Motor_Transport_Statistics_1995.png\")"
   ]
  },
  {
   "cell_type": "code",
   "execution_count": null,
   "metadata": {},
   "outputs": [],
   "source": [
    "from IPython.display import IFrame\n",
    "\n",
    "IFrame(src='../_html/map_totalDied.html', width=700, height=600)"
   ]
  },
  {
   "cell_type": "code",
   "execution_count": null,
   "metadata": {},
   "outputs": [],
   "source": []
  },
  {
   "cell_type": "code",
   "execution_count": 1,
   "metadata": {},
   "outputs": [
    {
     "name": "stdout",
     "output_type": "stream",
     "text": [
      "200\n"
     ]
    }
   ],
   "source": [
    "import pandas as pd # library for data analysis\n",
    "import requests # library to handle requests\n",
    "from bs4 import BeautifulSoup # library to parse HTML documents\n",
    "\n",
    "# get the response in the form of html\n",
    "wikiurl=\"https://en.wikipedia.org/wiki/List_of_states_and_union_territories_of_India_by_population\"\n",
    "table_class=\"wikitable sortable jquery-tablesorter\"\n",
    "response=requests.get(wikiurl)\n",
    "print(response.status_code)"
   ]
  },
  {
   "cell_type": "code",
   "execution_count": 4,
   "metadata": {},
   "outputs": [],
   "source": [
    "# parse data from the html into a beautifulsoup object\n",
    "soup = BeautifulSoup(response.text, 'html.parser')\n",
    "indiatable=soup.find('table',{'class':\"wikitable\"})"
   ]
  },
  {
   "cell_type": "code",
   "execution_count": 5,
   "metadata": {},
   "outputs": [],
   "source": [
    "df=pd.read_html(str(indiatable))\n",
    "# convert list to dataframe\n",
    "df=pd.DataFrame(df[0])"
   ]
  },
  {
   "cell_type": "code",
   "execution_count": 6,
   "metadata": {},
   "outputs": [
    {
     "data": {
      "text/html": [
       "<div>\n",
       "<style scoped>\n",
       "    .dataframe tbody tr th:only-of-type {\n",
       "        vertical-align: middle;\n",
       "    }\n",
       "\n",
       "    .dataframe tbody tr th {\n",
       "        vertical-align: top;\n",
       "    }\n",
       "\n",
       "    .dataframe thead th {\n",
       "        text-align: right;\n",
       "    }\n",
       "</style>\n",
       "<table border=\"1\" class=\"dataframe\">\n",
       "  <thead>\n",
       "    <tr style=\"text-align: right;\">\n",
       "      <th></th>\n",
       "      <th>Rank</th>\n",
       "      <th>State or union territory</th>\n",
       "      <th>Population</th>\n",
       "      <th>National Share (%)</th>\n",
       "      <th>Decadal growth(2001–2012)</th>\n",
       "      <th>Rural population</th>\n",
       "      <th>Percent rural</th>\n",
       "      <th>Urban population</th>\n",
       "      <th>Percent urban</th>\n",
       "      <th>Area[14]</th>\n",
       "      <th>Density[a]</th>\n",
       "      <th>Sex ratio</th>\n",
       "    </tr>\n",
       "  </thead>\n",
       "  <tbody>\n",
       "    <tr>\n",
       "      <th>0</th>\n",
       "      <td>1 (S1)</td>\n",
       "      <td>Uttar Pradesh</td>\n",
       "      <td>199812341</td>\n",
       "      <td>NaN</td>\n",
       "      <td>20.2%</td>\n",
       "      <td>155317278</td>\n",
       "      <td>NaN</td>\n",
       "      <td>44495063</td>\n",
       "      <td>NaN</td>\n",
       "      <td>240,928 km2 (93,023 sq mi)</td>\n",
       "      <td>828/km2 (2,140/sq mi)</td>\n",
       "      <td>912</td>\n",
       "    </tr>\n",
       "    <tr>\n",
       "      <th>1</th>\n",
       "      <td>2 (S2)</td>\n",
       "      <td>Maharashtra</td>\n",
       "      <td>112374333</td>\n",
       "      <td>NaN</td>\n",
       "      <td>16%</td>\n",
       "      <td>61556074</td>\n",
       "      <td>NaN</td>\n",
       "      <td>50818259</td>\n",
       "      <td>NaN</td>\n",
       "      <td>307,713 km2 (118,809 sq mi)</td>\n",
       "      <td>365/km2 (950/sq mi)</td>\n",
       "      <td>929</td>\n",
       "    </tr>\n",
       "    <tr>\n",
       "      <th>2</th>\n",
       "      <td>3 (S3)</td>\n",
       "      <td>Bihar</td>\n",
       "      <td>104099452</td>\n",
       "      <td>NaN</td>\n",
       "      <td>25.4%</td>\n",
       "      <td>92341436</td>\n",
       "      <td>NaN</td>\n",
       "      <td>11758016</td>\n",
       "      <td>NaN</td>\n",
       "      <td>94,163 km2 (36,357 sq mi)</td>\n",
       "      <td>1,102/km2 (2,850/sq mi)</td>\n",
       "      <td>918</td>\n",
       "    </tr>\n",
       "    <tr>\n",
       "      <th>3</th>\n",
       "      <td>4 (S4)</td>\n",
       "      <td>West Bengal</td>\n",
       "      <td>91276115</td>\n",
       "      <td>NaN</td>\n",
       "      <td>13.8%</td>\n",
       "      <td>62183113</td>\n",
       "      <td>NaN</td>\n",
       "      <td>29093002</td>\n",
       "      <td>NaN</td>\n",
       "      <td>88,752 km2 (34,267 sq mi)</td>\n",
       "      <td>1,029/km2 (2,670/sq mi)</td>\n",
       "      <td>953</td>\n",
       "    </tr>\n",
       "    <tr>\n",
       "      <th>4</th>\n",
       "      <td>5 (S5)</td>\n",
       "      <td>Madhya Pradesh</td>\n",
       "      <td>72626809</td>\n",
       "      <td>NaN</td>\n",
       "      <td>16.3%</td>\n",
       "      <td>52557404</td>\n",
       "      <td>NaN</td>\n",
       "      <td>20069405</td>\n",
       "      <td>NaN</td>\n",
       "      <td>308,245 km2 (119,014 sq mi)</td>\n",
       "      <td>236/km2 (610/sq mi)</td>\n",
       "      <td>931</td>\n",
       "    </tr>\n",
       "    <tr>\n",
       "      <th>5</th>\n",
       "      <td>6 (S6)</td>\n",
       "      <td>Tamil Nadu</td>\n",
       "      <td>72147030</td>\n",
       "      <td>NaN</td>\n",
       "      <td>15.6%</td>\n",
       "      <td>37229590</td>\n",
       "      <td>NaN</td>\n",
       "      <td>34917440</td>\n",
       "      <td>NaN</td>\n",
       "      <td>130,051 km2 (50,213 sq mi)</td>\n",
       "      <td>555/km2 (1,440/sq mi)</td>\n",
       "      <td>996</td>\n",
       "    </tr>\n",
       "    <tr>\n",
       "      <th>6</th>\n",
       "      <td>7 (S7)</td>\n",
       "      <td>Rajasthan</td>\n",
       "      <td>68548437</td>\n",
       "      <td>NaN</td>\n",
       "      <td>21.3%</td>\n",
       "      <td>51500352</td>\n",
       "      <td>NaN</td>\n",
       "      <td>17048085</td>\n",
       "      <td>NaN</td>\n",
       "      <td>342,239 km2 (132,139 sq mi)</td>\n",
       "      <td>201/km2 (520/sq mi)</td>\n",
       "      <td>928</td>\n",
       "    </tr>\n",
       "    <tr>\n",
       "      <th>7</th>\n",
       "      <td>8 (S8)</td>\n",
       "      <td>Karnataka</td>\n",
       "      <td>61095297</td>\n",
       "      <td>NaN</td>\n",
       "      <td>15.6%</td>\n",
       "      <td>30069335</td>\n",
       "      <td>NaN</td>\n",
       "      <td>31025962</td>\n",
       "      <td>NaN</td>\n",
       "      <td>191,791 km2 (74,051 sq mi)</td>\n",
       "      <td>319/km2 (830/sq mi)</td>\n",
       "      <td>979</td>\n",
       "    </tr>\n",
       "    <tr>\n",
       "      <th>8</th>\n",
       "      <td>9 (S9)</td>\n",
       "      <td>Gujarat</td>\n",
       "      <td>60439692</td>\n",
       "      <td>NaN</td>\n",
       "      <td>19.3%</td>\n",
       "      <td>34694609</td>\n",
       "      <td>NaN</td>\n",
       "      <td>25745083</td>\n",
       "      <td>NaN</td>\n",
       "      <td>196,024 km2 (75,685 sq mi)</td>\n",
       "      <td>308/km2 (800/sq mi)</td>\n",
       "      <td>919</td>\n",
       "    </tr>\n",
       "    <tr>\n",
       "      <th>9</th>\n",
       "      <td>10 (S10)</td>\n",
       "      <td>Andhra Pradesh</td>\n",
       "      <td>49,577,103[b]</td>\n",
       "      <td>NaN</td>\n",
       "      <td>11.0%</td>\n",
       "      <td>34966693</td>\n",
       "      <td>NaN</td>\n",
       "      <td>14610410</td>\n",
       "      <td>NaN</td>\n",
       "      <td>162,968 km2 (62,922 sq mi)</td>\n",
       "      <td>303/km2 (780/sq mi)</td>\n",
       "      <td>993</td>\n",
       "    </tr>\n",
       "    <tr>\n",
       "      <th>10</th>\n",
       "      <td>11 (S11)</td>\n",
       "      <td>Odisha</td>\n",
       "      <td>41974219</td>\n",
       "      <td>NaN</td>\n",
       "      <td>14.0%</td>\n",
       "      <td>34970562</td>\n",
       "      <td>NaN</td>\n",
       "      <td>7003656</td>\n",
       "      <td>NaN</td>\n",
       "      <td>155,707 km2 (60,119 sq mi)</td>\n",
       "      <td>269/km2 (700/sq mi)</td>\n",
       "      <td>979</td>\n",
       "    </tr>\n",
       "    <tr>\n",
       "      <th>11</th>\n",
       "      <td>12 (S12)</td>\n",
       "      <td>Telangana</td>\n",
       "      <td>35003674</td>\n",
       "      <td>NaN</td>\n",
       "      <td>13.58%</td>\n",
       "      <td>21395009</td>\n",
       "      <td>NaN</td>\n",
       "      <td>13608665</td>\n",
       "      <td>NaN</td>\n",
       "      <td>112,077 km2 (43,273 sq mi)</td>\n",
       "      <td>312/km2 (810/sq mi)</td>\n",
       "      <td>988</td>\n",
       "    </tr>\n",
       "    <tr>\n",
       "      <th>12</th>\n",
       "      <td>13 (S13)</td>\n",
       "      <td>Kerala</td>\n",
       "      <td>33406061</td>\n",
       "      <td>NaN</td>\n",
       "      <td>4.9%</td>\n",
       "      <td>17471135</td>\n",
       "      <td>NaN</td>\n",
       "      <td>15934926</td>\n",
       "      <td>NaN</td>\n",
       "      <td>38,863 km2 (15,005 sq mi)</td>\n",
       "      <td>859/km2 (2,220/sq mi)</td>\n",
       "      <td>1084</td>\n",
       "    </tr>\n",
       "    <tr>\n",
       "      <th>13</th>\n",
       "      <td>14 (S14)</td>\n",
       "      <td>Jharkhand</td>\n",
       "      <td>32988134</td>\n",
       "      <td>NaN</td>\n",
       "      <td>22.4%</td>\n",
       "      <td>25055073</td>\n",
       "      <td>NaN</td>\n",
       "      <td>7933061</td>\n",
       "      <td>NaN</td>\n",
       "      <td>79,714 km2 (30,778 sq mi)</td>\n",
       "      <td>414/km2 (1,070/sq mi)</td>\n",
       "      <td>948</td>\n",
       "    </tr>\n",
       "    <tr>\n",
       "      <th>14</th>\n",
       "      <td>15 (S15)</td>\n",
       "      <td>Assam</td>\n",
       "      <td>31205576</td>\n",
       "      <td>NaN</td>\n",
       "      <td>17.7%</td>\n",
       "      <td>26807034</td>\n",
       "      <td>NaN</td>\n",
       "      <td>4398542</td>\n",
       "      <td>NaN</td>\n",
       "      <td>78,438 km2 (30,285 sq mi)</td>\n",
       "      <td>398/km2 (1,030/sq mi)</td>\n",
       "      <td>958</td>\n",
       "    </tr>\n",
       "    <tr>\n",
       "      <th>15</th>\n",
       "      <td>16 (S16)</td>\n",
       "      <td>Punjab</td>\n",
       "      <td>27743338</td>\n",
       "      <td>NaN</td>\n",
       "      <td>13.89%</td>\n",
       "      <td>17344192</td>\n",
       "      <td>NaN</td>\n",
       "      <td>10399146</td>\n",
       "      <td>NaN</td>\n",
       "      <td>50,362 km2 (19,445 sq mi)</td>\n",
       "      <td>551/km2 (1,430/sq mi)</td>\n",
       "      <td>895</td>\n",
       "    </tr>\n",
       "    <tr>\n",
       "      <th>16</th>\n",
       "      <td>17 (S17)</td>\n",
       "      <td>Chhattisgarh</td>\n",
       "      <td>25545198</td>\n",
       "      <td>NaN</td>\n",
       "      <td>22.6%</td>\n",
       "      <td>19607961</td>\n",
       "      <td>NaN</td>\n",
       "      <td>5937237</td>\n",
       "      <td>NaN</td>\n",
       "      <td>135,191 km2 (52,198 sq mi)</td>\n",
       "      <td>189/km2 (490/sq mi)</td>\n",
       "      <td>991</td>\n",
       "    </tr>\n",
       "    <tr>\n",
       "      <th>17</th>\n",
       "      <td>18 (S18)</td>\n",
       "      <td>Haryana</td>\n",
       "      <td>25351462</td>\n",
       "      <td>NaN</td>\n",
       "      <td>19.9%</td>\n",
       "      <td>16509359</td>\n",
       "      <td>NaN</td>\n",
       "      <td>8842103</td>\n",
       "      <td>NaN</td>\n",
       "      <td>44,212 km2 (17,070 sq mi)</td>\n",
       "      <td>573/km2 (1,480/sq mi)</td>\n",
       "      <td>879</td>\n",
       "    </tr>\n",
       "    <tr>\n",
       "      <th>18</th>\n",
       "      <td>19 (UT1)</td>\n",
       "      <td>NCT of Delhi</td>\n",
       "      <td>16787941</td>\n",
       "      <td>NaN</td>\n",
       "      <td>21.2%</td>\n",
       "      <td>419042</td>\n",
       "      <td>NaN</td>\n",
       "      <td>16368899</td>\n",
       "      <td>NaN</td>\n",
       "      <td>1,484 km2 (573 sq mi)</td>\n",
       "      <td>11,297/km2 (29,260/sq mi)</td>\n",
       "      <td>868</td>\n",
       "    </tr>\n",
       "    <tr>\n",
       "      <th>19</th>\n",
       "      <td>20 (UT2)</td>\n",
       "      <td>Jammu and Kashmir</td>\n",
       "      <td>12267032</td>\n",
       "      <td>NaN</td>\n",
       "      <td>23.6%</td>\n",
       "      <td>9064220</td>\n",
       "      <td>NaN</td>\n",
       "      <td>3202812</td>\n",
       "      <td>NaN</td>\n",
       "      <td>125,535 km2 (48,469 sq mi)[c]</td>\n",
       "      <td>297/km2 (770/sq mi)</td>\n",
       "      <td>890</td>\n",
       "    </tr>\n",
       "    <tr>\n",
       "      <th>20</th>\n",
       "      <td>21 (S19)</td>\n",
       "      <td>Uttarakhand</td>\n",
       "      <td>10086292</td>\n",
       "      <td>NaN</td>\n",
       "      <td>18.8%</td>\n",
       "      <td>7036954</td>\n",
       "      <td>NaN</td>\n",
       "      <td>3049338</td>\n",
       "      <td>NaN</td>\n",
       "      <td>53,483 km2 (20,650 sq mi)</td>\n",
       "      <td>189/km2 (490/sq mi)</td>\n",
       "      <td>963</td>\n",
       "    </tr>\n",
       "    <tr>\n",
       "      <th>21</th>\n",
       "      <td>22 (S20)</td>\n",
       "      <td>Himachal Pradesh</td>\n",
       "      <td>6864602</td>\n",
       "      <td>NaN</td>\n",
       "      <td>12.9%</td>\n",
       "      <td>6176050</td>\n",
       "      <td>NaN</td>\n",
       "      <td>688552</td>\n",
       "      <td>NaN</td>\n",
       "      <td>55,673 km2 (21,495 sq mi)</td>\n",
       "      <td>123/km2 (320/sq mi)</td>\n",
       "      <td>972</td>\n",
       "    </tr>\n",
       "    <tr>\n",
       "      <th>22</th>\n",
       "      <td>23 (S21)</td>\n",
       "      <td>Tripura</td>\n",
       "      <td>3673917</td>\n",
       "      <td>NaN</td>\n",
       "      <td>14.8%</td>\n",
       "      <td>2712464</td>\n",
       "      <td>NaN</td>\n",
       "      <td>961453</td>\n",
       "      <td>NaN</td>\n",
       "      <td>10,486 km2 (4,049 sq mi)</td>\n",
       "      <td>350/km2 (910/sq mi)</td>\n",
       "      <td>960</td>\n",
       "    </tr>\n",
       "    <tr>\n",
       "      <th>23</th>\n",
       "      <td>24 (S22)</td>\n",
       "      <td>Meghalaya</td>\n",
       "      <td>2966889</td>\n",
       "      <td>NaN</td>\n",
       "      <td>27.9%</td>\n",
       "      <td>2371439</td>\n",
       "      <td>NaN</td>\n",
       "      <td>595450</td>\n",
       "      <td>NaN</td>\n",
       "      <td>22,429 km2 (8,660 sq mi)</td>\n",
       "      <td>132/km2 (340/sq mi)</td>\n",
       "      <td>989</td>\n",
       "    </tr>\n",
       "    <tr>\n",
       "      <th>24</th>\n",
       "      <td>25 (S23)</td>\n",
       "      <td>Manipur[d]</td>\n",
       "      <td>2570390</td>\n",
       "      <td>NaN</td>\n",
       "      <td>18.6%</td>\n",
       "      <td>1793875</td>\n",
       "      <td>NaN</td>\n",
       "      <td>776515</td>\n",
       "      <td>NaN</td>\n",
       "      <td>22,327 km2 (8,621 sq mi)</td>\n",
       "      <td>122/km2 (320/sq mi)</td>\n",
       "      <td>992</td>\n",
       "    </tr>\n",
       "    <tr>\n",
       "      <th>25</th>\n",
       "      <td>26 (S24)</td>\n",
       "      <td>Nagaland</td>\n",
       "      <td>1978502</td>\n",
       "      <td>NaN</td>\n",
       "      <td>−0.6%</td>\n",
       "      <td>1407536</td>\n",
       "      <td>NaN</td>\n",
       "      <td>570966</td>\n",
       "      <td>NaN</td>\n",
       "      <td>16,579 km2 (6,401 sq mi)</td>\n",
       "      <td>119/km2 (310/sq mi)</td>\n",
       "      <td>931</td>\n",
       "    </tr>\n",
       "    <tr>\n",
       "      <th>26</th>\n",
       "      <td>27 (S25)</td>\n",
       "      <td>Goa</td>\n",
       "      <td>1458545</td>\n",
       "      <td>NaN</td>\n",
       "      <td>8.2%</td>\n",
       "      <td>551731</td>\n",
       "      <td>NaN</td>\n",
       "      <td>906814</td>\n",
       "      <td>NaN</td>\n",
       "      <td>3,702 km2 (1,429 sq mi)</td>\n",
       "      <td>394/km2 (1,020/sq mi)</td>\n",
       "      <td>973</td>\n",
       "    </tr>\n",
       "    <tr>\n",
       "      <th>27</th>\n",
       "      <td>28 (S26)</td>\n",
       "      <td>Arunachal Pradesh</td>\n",
       "      <td>1383727</td>\n",
       "      <td>NaN</td>\n",
       "      <td>26.0%</td>\n",
       "      <td>1066358</td>\n",
       "      <td>NaN</td>\n",
       "      <td>317369</td>\n",
       "      <td>NaN</td>\n",
       "      <td>83,743 km2 (32,333 sq mi)</td>\n",
       "      <td>17/km2 (44/sq mi)</td>\n",
       "      <td>938</td>\n",
       "    </tr>\n",
       "    <tr>\n",
       "      <th>28</th>\n",
       "      <td>29 (UT3)</td>\n",
       "      <td>Puducherry</td>\n",
       "      <td>1247953</td>\n",
       "      <td>NaN</td>\n",
       "      <td>28.1%</td>\n",
       "      <td>395200</td>\n",
       "      <td>NaN</td>\n",
       "      <td>852753</td>\n",
       "      <td>NaN</td>\n",
       "      <td>479 km2 (185 sq mi)</td>\n",
       "      <td>2,598/km2 (6,730/sq mi)</td>\n",
       "      <td>1037</td>\n",
       "    </tr>\n",
       "    <tr>\n",
       "      <th>29</th>\n",
       "      <td>30 (S27)</td>\n",
       "      <td>Mizoram</td>\n",
       "      <td>1097206</td>\n",
       "      <td>NaN</td>\n",
       "      <td>23.5%</td>\n",
       "      <td>525435</td>\n",
       "      <td>NaN</td>\n",
       "      <td>571771</td>\n",
       "      <td>NaN</td>\n",
       "      <td>21,081 km2 (8,139 sq mi)</td>\n",
       "      <td>52/km2 (130/sq mi)</td>\n",
       "      <td>976</td>\n",
       "    </tr>\n",
       "    <tr>\n",
       "      <th>30</th>\n",
       "      <td>31 (UT4)</td>\n",
       "      <td>Chandigarh</td>\n",
       "      <td>1,055,450 (estimated)</td>\n",
       "      <td>NaN</td>\n",
       "      <td>17.2%</td>\n",
       "      <td>28991</td>\n",
       "      <td>NaN</td>\n",
       "      <td>1026459</td>\n",
       "      <td>NaN</td>\n",
       "      <td>114 km2 (44 sq mi)</td>\n",
       "      <td>9,252/km2 (23,960/sq mi)</td>\n",
       "      <td>818</td>\n",
       "    </tr>\n",
       "    <tr>\n",
       "      <th>31</th>\n",
       "      <td>32 (S28)</td>\n",
       "      <td>Sikkim</td>\n",
       "      <td>610,577 (estimated)</td>\n",
       "      <td>NaN</td>\n",
       "      <td>12.9%</td>\n",
       "      <td>456999</td>\n",
       "      <td>NaN</td>\n",
       "      <td>153578</td>\n",
       "      <td>NaN</td>\n",
       "      <td>7,096 km2 (2,740 sq mi)</td>\n",
       "      <td>86/km2 (220/sq mi)</td>\n",
       "      <td>890</td>\n",
       "    </tr>\n",
       "    <tr>\n",
       "      <th>32</th>\n",
       "      <td>33 (UT5)</td>\n",
       "      <td>Dadra and Nagar Haveli and Daman and Diu</td>\n",
       "      <td>585764</td>\n",
       "      <td>NaN</td>\n",
       "      <td>55.1%</td>\n",
       "      <td>243510</td>\n",
       "      <td>NaN</td>\n",
       "      <td>342254</td>\n",
       "      <td>NaN</td>\n",
       "      <td>603 km2 (233 sq mi)</td>\n",
       "      <td>970/km2 (2,500/sq mi)</td>\n",
       "      <td>711</td>\n",
       "    </tr>\n",
       "    <tr>\n",
       "      <th>33</th>\n",
       "      <td>34 (UT6)</td>\n",
       "      <td>Andaman and Nicobar Islands</td>\n",
       "      <td>380581</td>\n",
       "      <td>NaN</td>\n",
       "      <td>6.9%</td>\n",
       "      <td>237093</td>\n",
       "      <td>NaN</td>\n",
       "      <td>143488</td>\n",
       "      <td>NaN</td>\n",
       "      <td>8,249 km2 (3,185 sq mi)</td>\n",
       "      <td>46/km2 (120/sq mi)</td>\n",
       "      <td>876</td>\n",
       "    </tr>\n",
       "    <tr>\n",
       "      <th>34</th>\n",
       "      <td>35 (UT7)</td>\n",
       "      <td>Ladakh</td>\n",
       "      <td>274000</td>\n",
       "      <td>NaN</td>\n",
       "      <td>17.8%</td>\n",
       "      <td>43840</td>\n",
       "      <td>NaN</td>\n",
       "      <td>230160</td>\n",
       "      <td>NaN</td>\n",
       "      <td>96,701 km2 (37,336 sq mi)[e]</td>\n",
       "      <td>2.8/km2 (7.3/sq mi)</td>\n",
       "      <td>853</td>\n",
       "    </tr>\n",
       "    <tr>\n",
       "      <th>35</th>\n",
       "      <td>36 (UT8)</td>\n",
       "      <td>Lakshadweep</td>\n",
       "      <td>64473</td>\n",
       "      <td>NaN</td>\n",
       "      <td>6.3%</td>\n",
       "      <td>14141</td>\n",
       "      <td>NaN</td>\n",
       "      <td>50332</td>\n",
       "      <td>NaN</td>\n",
       "      <td>32 km2 (12 sq mi)</td>\n",
       "      <td>2,013/km2 (5,210/sq mi)</td>\n",
       "      <td>946</td>\n",
       "    </tr>\n",
       "    <tr>\n",
       "      <th>36</th>\n",
       "      <td>Total</td>\n",
       "      <td>India</td>\n",
       "      <td>1210569573</td>\n",
       "      <td>100%</td>\n",
       "      <td>17.7%</td>\n",
       "      <td>833463448</td>\n",
       "      <td>68.84%</td>\n",
       "      <td>377106125</td>\n",
       "      <td>31.16%</td>\n",
       "      <td>3,287,240 km2 (1,269,210 sq mi)[f]</td>\n",
       "      <td>382/km2 (990/sq mi)</td>\n",
       "      <td>940</td>\n",
       "    </tr>\n",
       "  </tbody>\n",
       "</table>\n",
       "</div>"
      ],
      "text/plain": [
       "        Rank                  State or union territory             Population  \\\n",
       "0     1 (S1)                             Uttar Pradesh              199812341   \n",
       "1     2 (S2)                               Maharashtra              112374333   \n",
       "2     3 (S3)                                     Bihar              104099452   \n",
       "3     4 (S4)                               West Bengal               91276115   \n",
       "4     5 (S5)                            Madhya Pradesh               72626809   \n",
       "5     6 (S6)                                Tamil Nadu               72147030   \n",
       "6     7 (S7)                                 Rajasthan               68548437   \n",
       "7     8 (S8)                                 Karnataka               61095297   \n",
       "8     9 (S9)                                   Gujarat               60439692   \n",
       "9   10 (S10)                            Andhra Pradesh          49,577,103[b]   \n",
       "10  11 (S11)                                    Odisha               41974219   \n",
       "11  12 (S12)                                 Telangana               35003674   \n",
       "12  13 (S13)                                    Kerala               33406061   \n",
       "13  14 (S14)                                 Jharkhand               32988134   \n",
       "14  15 (S15)                                     Assam               31205576   \n",
       "15  16 (S16)                                    Punjab               27743338   \n",
       "16  17 (S17)                              Chhattisgarh               25545198   \n",
       "17  18 (S18)                                   Haryana               25351462   \n",
       "18  19 (UT1)                              NCT of Delhi               16787941   \n",
       "19  20 (UT2)                         Jammu and Kashmir               12267032   \n",
       "20  21 (S19)                               Uttarakhand               10086292   \n",
       "21  22 (S20)                          Himachal Pradesh                6864602   \n",
       "22  23 (S21)                                   Tripura                3673917   \n",
       "23  24 (S22)                                 Meghalaya                2966889   \n",
       "24  25 (S23)                                Manipur[d]                2570390   \n",
       "25  26 (S24)                                  Nagaland                1978502   \n",
       "26  27 (S25)                                       Goa                1458545   \n",
       "27  28 (S26)                         Arunachal Pradesh                1383727   \n",
       "28  29 (UT3)                                Puducherry                1247953   \n",
       "29  30 (S27)                                   Mizoram                1097206   \n",
       "30  31 (UT4)                                Chandigarh  1,055,450 (estimated)   \n",
       "31  32 (S28)                                    Sikkim    610,577 (estimated)   \n",
       "32  33 (UT5)  Dadra and Nagar Haveli and Daman and Diu                 585764   \n",
       "33  34 (UT6)               Andaman and Nicobar Islands                 380581   \n",
       "34  35 (UT7)                                    Ladakh                 274000   \n",
       "35  36 (UT8)                               Lakshadweep                  64473   \n",
       "36     Total                                     India             1210569573   \n",
       "\n",
       "   National Share (%) Decadal growth(2001–2012)  Rural population  \\\n",
       "0                 NaN                     20.2%         155317278   \n",
       "1                 NaN                       16%          61556074   \n",
       "2                 NaN                     25.4%          92341436   \n",
       "3                 NaN                     13.8%          62183113   \n",
       "4                 NaN                     16.3%          52557404   \n",
       "5                 NaN                     15.6%          37229590   \n",
       "6                 NaN                     21.3%          51500352   \n",
       "7                 NaN                     15.6%          30069335   \n",
       "8                 NaN                     19.3%          34694609   \n",
       "9                 NaN                     11.0%          34966693   \n",
       "10                NaN                     14.0%          34970562   \n",
       "11                NaN                    13.58%          21395009   \n",
       "12                NaN                      4.9%          17471135   \n",
       "13                NaN                     22.4%          25055073   \n",
       "14                NaN                     17.7%          26807034   \n",
       "15                NaN                    13.89%          17344192   \n",
       "16                NaN                     22.6%          19607961   \n",
       "17                NaN                     19.9%          16509359   \n",
       "18                NaN                     21.2%            419042   \n",
       "19                NaN                     23.6%           9064220   \n",
       "20                NaN                     18.8%           7036954   \n",
       "21                NaN                     12.9%           6176050   \n",
       "22                NaN                     14.8%           2712464   \n",
       "23                NaN                     27.9%           2371439   \n",
       "24                NaN                     18.6%           1793875   \n",
       "25                NaN                     −0.6%           1407536   \n",
       "26                NaN                      8.2%            551731   \n",
       "27                NaN                     26.0%           1066358   \n",
       "28                NaN                     28.1%            395200   \n",
       "29                NaN                     23.5%            525435   \n",
       "30                NaN                     17.2%             28991   \n",
       "31                NaN                     12.9%            456999   \n",
       "32                NaN                     55.1%            243510   \n",
       "33                NaN                      6.9%            237093   \n",
       "34                NaN                     17.8%             43840   \n",
       "35                NaN                      6.3%             14141   \n",
       "36               100%                     17.7%         833463448   \n",
       "\n",
       "   Percent rural  Urban population Percent urban  \\\n",
       "0            NaN          44495063           NaN   \n",
       "1            NaN          50818259           NaN   \n",
       "2            NaN          11758016           NaN   \n",
       "3            NaN          29093002           NaN   \n",
       "4            NaN          20069405           NaN   \n",
       "5            NaN          34917440           NaN   \n",
       "6            NaN          17048085           NaN   \n",
       "7            NaN          31025962           NaN   \n",
       "8            NaN          25745083           NaN   \n",
       "9            NaN          14610410           NaN   \n",
       "10           NaN           7003656           NaN   \n",
       "11           NaN          13608665           NaN   \n",
       "12           NaN          15934926           NaN   \n",
       "13           NaN           7933061           NaN   \n",
       "14           NaN           4398542           NaN   \n",
       "15           NaN          10399146           NaN   \n",
       "16           NaN           5937237           NaN   \n",
       "17           NaN           8842103           NaN   \n",
       "18           NaN          16368899           NaN   \n",
       "19           NaN           3202812           NaN   \n",
       "20           NaN           3049338           NaN   \n",
       "21           NaN            688552           NaN   \n",
       "22           NaN            961453           NaN   \n",
       "23           NaN            595450           NaN   \n",
       "24           NaN            776515           NaN   \n",
       "25           NaN            570966           NaN   \n",
       "26           NaN            906814           NaN   \n",
       "27           NaN            317369           NaN   \n",
       "28           NaN            852753           NaN   \n",
       "29           NaN            571771           NaN   \n",
       "30           NaN           1026459           NaN   \n",
       "31           NaN            153578           NaN   \n",
       "32           NaN            342254           NaN   \n",
       "33           NaN            143488           NaN   \n",
       "34           NaN            230160           NaN   \n",
       "35           NaN             50332           NaN   \n",
       "36        68.84%         377106125        31.16%   \n",
       "\n",
       "                              Area[14]                 Density[a]  Sex ratio  \n",
       "0           240,928 km2 (93,023 sq mi)      828/km2 (2,140/sq mi)        912  \n",
       "1          307,713 km2 (118,809 sq mi)        365/km2 (950/sq mi)        929  \n",
       "2            94,163 km2 (36,357 sq mi)    1,102/km2 (2,850/sq mi)        918  \n",
       "3            88,752 km2 (34,267 sq mi)    1,029/km2 (2,670/sq mi)        953  \n",
       "4          308,245 km2 (119,014 sq mi)        236/km2 (610/sq mi)        931  \n",
       "5           130,051 km2 (50,213 sq mi)      555/km2 (1,440/sq mi)        996  \n",
       "6          342,239 km2 (132,139 sq mi)        201/km2 (520/sq mi)        928  \n",
       "7           191,791 km2 (74,051 sq mi)        319/km2 (830/sq mi)        979  \n",
       "8           196,024 km2 (75,685 sq mi)        308/km2 (800/sq mi)        919  \n",
       "9           162,968 km2 (62,922 sq mi)        303/km2 (780/sq mi)        993  \n",
       "10          155,707 km2 (60,119 sq mi)        269/km2 (700/sq mi)        979  \n",
       "11          112,077 km2 (43,273 sq mi)        312/km2 (810/sq mi)        988  \n",
       "12           38,863 km2 (15,005 sq mi)      859/km2 (2,220/sq mi)       1084  \n",
       "13           79,714 km2 (30,778 sq mi)      414/km2 (1,070/sq mi)        948  \n",
       "14           78,438 km2 (30,285 sq mi)      398/km2 (1,030/sq mi)        958  \n",
       "15           50,362 km2 (19,445 sq mi)      551/km2 (1,430/sq mi)        895  \n",
       "16          135,191 km2 (52,198 sq mi)        189/km2 (490/sq mi)        991  \n",
       "17           44,212 km2 (17,070 sq mi)      573/km2 (1,480/sq mi)        879  \n",
       "18               1,484 km2 (573 sq mi)  11,297/km2 (29,260/sq mi)        868  \n",
       "19       125,535 km2 (48,469 sq mi)[c]        297/km2 (770/sq mi)        890  \n",
       "20           53,483 km2 (20,650 sq mi)        189/km2 (490/sq mi)        963  \n",
       "21           55,673 km2 (21,495 sq mi)        123/km2 (320/sq mi)        972  \n",
       "22            10,486 km2 (4,049 sq mi)        350/km2 (910/sq mi)        960  \n",
       "23            22,429 km2 (8,660 sq mi)        132/km2 (340/sq mi)        989  \n",
       "24            22,327 km2 (8,621 sq mi)        122/km2 (320/sq mi)        992  \n",
       "25            16,579 km2 (6,401 sq mi)        119/km2 (310/sq mi)        931  \n",
       "26             3,702 km2 (1,429 sq mi)      394/km2 (1,020/sq mi)        973  \n",
       "27           83,743 km2 (32,333 sq mi)          17/km2 (44/sq mi)        938  \n",
       "28                 479 km2 (185 sq mi)    2,598/km2 (6,730/sq mi)       1037  \n",
       "29            21,081 km2 (8,139 sq mi)         52/km2 (130/sq mi)        976  \n",
       "30                  114 km2 (44 sq mi)   9,252/km2 (23,960/sq mi)        818  \n",
       "31             7,096 km2 (2,740 sq mi)         86/km2 (220/sq mi)        890  \n",
       "32                 603 km2 (233 sq mi)      970/km2 (2,500/sq mi)        711  \n",
       "33             8,249 km2 (3,185 sq mi)         46/km2 (120/sq mi)        876  \n",
       "34        96,701 km2 (37,336 sq mi)[e]        2.8/km2 (7.3/sq mi)        853  \n",
       "35                   32 km2 (12 sq mi)    2,013/km2 (5,210/sq mi)        946  \n",
       "36  3,287,240 km2 (1,269,210 sq mi)[f]        382/km2 (990/sq mi)        940  "
      ]
     },
     "execution_count": 6,
     "metadata": {},
     "output_type": "execute_result"
    }
   ],
   "source": [
    "df"
   ]
  },
  {
   "cell_type": "code",
   "execution_count": null,
   "metadata": {},
   "outputs": [],
   "source": []
  }
 ],
 "metadata": {
  "interpreter": {
   "hash": "451ded4949e1aaab27630efc87854dcfde0685a3061367989ae886bacaf2b129"
  },
  "kernelspec": {
   "display_name": "Python 3 (ipykernel)",
   "language": "python",
   "name": "python3"
  },
  "language_info": {
   "codemirror_mode": {
    "name": "ipython",
    "version": 3
   },
   "file_extension": ".py",
   "mimetype": "text/x-python",
   "name": "python",
   "nbconvert_exporter": "python",
   "pygments_lexer": "ipython3",
   "version": "3.9.11"
  }
 },
 "nbformat": 4,
 "nbformat_minor": 2
}
